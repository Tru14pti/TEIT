{
 "cells": [
  {
   "cell_type": "code",
   "execution_count": 2,
   "id": "7b254db4",
   "metadata": {},
   "outputs": [
    {
     "name": "stdout",
     "output_type": "stream",
     "text": [
      "Enter number: 3\n",
      "Enter number: 4\n",
      "Enter number: 2\n",
      "0 0 \n",
      "3 0 \n",
      "0 3 \n",
      "3 3 \n",
      "2 4 \n",
      "0 2 \n"
     ]
    }
   ],
   "source": [
    "\n",
    "\n",
    "max1=int(input(\"Enter number: \"))\n",
    "max2=int(input(\"Enter number: \"))\n",
    "fill=int(input(\"Enter number: \"))\n",
    "def pour(jug1,jug2):\n",
    "   #max1,max2,fill=3,4,2\n",
    "    print(\"%d %d \"%(jug1,jug2))\n",
    "    if jug2==fill:\n",
    "        return\n",
    "    elif jug1!=0 and jug2==0:\n",
    "        pour(0,jug1)\n",
    "    elif jug2==max2:\n",
    "        pour(0,jug1)\n",
    "    elif jug1==fill:\n",
    "        pour(jug1,0)\n",
    "    elif jug1<max1:\n",
    "        pour(max1,jug2)\n",
    "    elif jug1<(max2-jug2):\n",
    "        pour(0,(jug1+jug2))\n",
    "    else:\n",
    "        pour(jug1-(max2-jug2),(max2-jug2)+jug2)\n",
    "        \n",
    "pour(0,0)"
   ]
  },
  {
   "cell_type": "code",
   "execution_count": null,
   "id": "bfc00578",
   "metadata": {},
   "outputs": [],
   "source": []
  }
 ],
 "metadata": {
  "kernelspec": {
   "display_name": "Python 3 (ipykernel)",
   "language": "python",
   "name": "python3"
  },
  "language_info": {
   "codemirror_mode": {
    "name": "ipython",
    "version": 3
   },
   "file_extension": ".py",
   "mimetype": "text/x-python",
   "name": "python",
   "nbconvert_exporter": "python",
   "pygments_lexer": "ipython3",
   "version": "3.9.12"
  }
 },
 "nbformat": 4,
 "nbformat_minor": 5
}
