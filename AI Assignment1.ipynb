{
 "cells": [
  {
   "cell_type": "code",
   "execution_count": 2,
   "id": "5827995f",
   "metadata": {},
   "outputs": [
    {
     "name": "stdout",
     "output_type": "stream",
     "text": [
      "Give the number of cities:4\n",
      "Please write the elements of the matrix in a single line and separated by a space: \n",
      "0 5 15 4 5 0 35 25 15 35 0 30 4 25 30 0\n",
      "[[ 0  5 15  4]\n",
      " [ 5  0 35 25]\n",
      " [15 35  0 30]\n",
      " [ 4 25 30  0]]\n",
      "tour: [0, 3, 1, 2, 0]\n",
      "Total cost: 79\n"
     ]
    }
   ],
   "source": [
    "#Name:Priyanka Auti\n",
    "#Roll No: 3302\n",
    "#Batch: A\n",
    "# Identify and Implement heuristic and search strategy for Travelling Salesperson Problem using nearest neighbour.\n",
    "\n",
    "import numpy as np\n",
    "\n",
    "ele= int(input(\"Give the number of cities:\"))\n",
    "print(\"Please write the elements of the matrix in a single line and separated by a space: \")\n",
    "\n",
    "elements = list(map(int, input().split()))\n",
    "dist_matrix = np.array(elements).reshape(ele, ele)\n",
    "\n",
    "print(dist_matrix)\n",
    "\n",
    "\n",
    "def nearest_neighbour(curr, unvisited,dist_matrix):\n",
    "    nearest=9999\n",
    "    neighbour= None\n",
    "    for city in unvisited:\n",
    "        if dist_matrix[curr][city]< nearest:\n",
    "            nearest=dist_matrix[curr][city]\n",
    "            neighbour= city\n",
    "    return neighbour, nearest\n",
    "def tsp_nn(dist_matrix):\n",
    "\n",
    "    n=len(dist_matrix)\n",
    "    tour=[0]*5\n",
    "    unvisited=set(range(1,n))\n",
    "    curr_city=0\n",
    "    for i in range(1,n):\n",
    "        next_city, dist = nearest_neighbour(curr_city, unvisited, dist_matrix)\n",
    "        tour[i]=next_city\n",
    "        curr_city= next_city\n",
    "        unvisited.remove(next_city)\n",
    "    tour[0]\n",
    "    \n",
    "    cost= sum(dist_matrix[tour[i]][tour[i+1]] for i in range(n-1))\n",
    "    cost+= dist_matrix[tour[n-1]][tour[0]]\n",
    "    return tour, cost\n",
    "#dist_matrix=[\n",
    " #   [5,0,35,25],\n",
    "#    [15,35,0,30],\n",
    "  #  [4,25,30,0]\n",
    "#]\n",
    "tour, cost= tsp_nn(dist_matrix)\n",
    "print(\"tour:\", tour)\n",
    "print(\"Total cost:\" ,cost)"
   ]
  },
  {
   "cell_type": "code",
   "execution_count": null,
   "id": "5d608022",
   "metadata": {},
   "outputs": [],
   "source": []
  }
 ],
 "metadata": {
  "kernelspec": {
   "display_name": "Python 3 (ipykernel)",
   "language": "python",
   "name": "python3"
  },
  "language_info": {
   "codemirror_mode": {
    "name": "ipython",
    "version": 3
   },
   "file_extension": ".py",
   "mimetype": "text/x-python",
   "name": "python",
   "nbconvert_exporter": "python",
   "pygments_lexer": "ipython3",
   "version": "3.9.12"
  }
 },
 "nbformat": 4,
 "nbformat_minor": 5
}
